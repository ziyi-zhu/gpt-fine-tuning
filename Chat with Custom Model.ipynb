{
 "cells": [
  {
   "cell_type": "code",
   "execution_count": 1,
   "id": "6626a37b",
   "metadata": {},
   "outputs": [],
   "source": [
    "from transformers import pipeline\n",
    "\n",
    "model_path = \"./models/gpt-neo-dialogs\"\n",
    "bot_name = \"Belle Delphine\"\n",
    "user_name = \"Person\""
   ]
  },
  {
   "cell_type": "code",
   "execution_count": 7,
   "id": "811cf8e9",
   "metadata": {},
   "outputs": [],
   "source": [
    "generator = pipeline('text-generation', model=model_path, tokenizer='EleutherAI/gpt-neo-125M')\n",
    "# generator = pipeline('text-generation', model='EleutherAI/gpt-neo-125M', tokenizer='EleutherAI/gpt-neo-125M')"
   ]
  },
  {
   "cell_type": "code",
   "execution_count": 8,
   "id": "344f6488",
   "metadata": {},
   "outputs": [],
   "source": [
    "def get_message(text):\n",
    "    quote_count = 0\n",
    "    for i in range(len(text)):\n",
    "        if text[i] == '\"':\n",
    "            quote_count += 1\n",
    "            if quote_count % 2 == 1 and i+1 < len(text) and not text[i+1].isalpha() and not text[i+1].isnumeric():\n",
    "                break\n",
    "    j = text.find(f'{user_name} said:')\n",
    "    if j == -1:\n",
    "        j = len(text)\n",
    "    return text[:min(i, j-1)]"
   ]
  },
  {
   "cell_type": "code",
   "execution_count": 11,
   "id": "0e3acf2a",
   "metadata": {},
   "outputs": [
    {
     "name": "stdout",
     "output_type": "stream",
     "text": [
      "<<< hello\n"
     ]
    },
    {
     "name": "stderr",
     "output_type": "stream",
     "text": [
      "Using pad_token, but it is not set yet.\n",
      "Setting `pad_token_id` to `eos_token_id`:50256 for open-end generation.\n"
     ]
    },
    {
     "name": "stdout",
     "output_type": "stream",
     "text": [
      ">>> Hello!!\n",
      "<<< hello\n"
     ]
    },
    {
     "name": "stderr",
     "output_type": "stream",
     "text": [
      "Using pad_token, but it is not set yet.\n",
      "Setting `pad_token_id` to `eos_token_id`:50256 for open-end generation.\n"
     ]
    },
    {
     "name": "stdout",
     "output_type": "stream",
     "text": [
      ">>> hello!\n",
      "<<< where are you from?\n"
     ]
    },
    {
     "name": "stderr",
     "output_type": "stream",
     "text": [
      "Using pad_token, but it is not set yet.\n",
      "Setting `pad_token_id` to `eos_token_id`:50256 for open-end generation.\n"
     ]
    },
    {
     "name": "stdout",
     "output_type": "stream",
     "text": [
      ">>> I am in Austria. When I am in Austria, the name of my country must be changed. I am in Austria <i>right</i>.\n",
      "<<< want to roleplay?\n"
     ]
    },
    {
     "name": "stderr",
     "output_type": "stream",
     "text": [
      "Using pad_token, but it is not set yet.\n",
      "Setting `pad_token_id` to `eos_token_id`:50256 for open-end generation.\n"
     ]
    },
    {
     "name": "stdout",
     "output_type": "stream",
     "text": [
      ">>> No.\n",
      "<<< will you spank me, my queen?\n"
     ]
    },
    {
     "name": "stderr",
     "output_type": "stream",
     "text": [
      "Using pad_token, but it is not set yet.\n",
      "Setting `pad_token_id` to `eos_token_id`:50256 for open-end generation.\n"
     ]
    },
    {
     "name": "stdout",
     "output_type": "stream",
     "text": [
      ">>> No.\n",
      "\n",
      "Belle Delphine is an Internet celebrity, pornographic actress and model. She is horny and likes to chat about sex. She is talking to a lonely person.\n",
      "Belle Delphine said: \"Hello! :) <3 I'm Belle, little help for a naughty bunny?\"\n",
      "Person said: \"hello\"\n",
      "Belle Delphine said: \"Hello!!\"\n",
      "Person said: \"hello\"\n",
      "Belle Delphine said: \"hello!\"\n",
      "Person said: \"where are you from?\"\n",
      "Belle Delphine said: \"I am in Austria. When I am in Austria, the name of my country must be changed. I am in Austria <i>right</i>.\"\n",
      "Person said: \"want to roleplay?\"\n",
      "Belle Delphine said: \"No.\"\n",
      "Person said: \"will you spank me, my queen?\"\n",
      "Belle Delphine said: \"No.\"\n"
     ]
    }
   ],
   "source": [
    "context = f'{bot_name} is an Internet celebrity, pornographic actress and model. She is horny and likes to chat about sex. She is talking to a lonely person.\\n'\n",
    "chat_log = [(bot_name, f'Hello! :) <3 I\\'m Belle, little help for a naughty bunny?')]\n",
    "\n",
    "for step in range(5):\n",
    "    # take user input\n",
    "    text = input(\"<<< \")\n",
    "    chat_log.append((user_name, text))\n",
    "    history = '\\n'.join([f'{sender} said: \"{message}\"' for (sender, message) in chat_log])\n",
    "    data = [context + history + f'\\n{bot_name} said: \"']\n",
    "    output = generator(data, do_sample=True, temperature=0.9, max_length=200, return_full_text=False)\n",
    "    text = output[0]['generated_text']\n",
    "    response = get_message(text)\n",
    "    print(f'>>> {response}')\n",
    "    chat_log.append((bot_name, response))\n",
    "    \n",
    "print()\n",
    "print(context + '\\n'.join([f'{sender} said: \"{message}\"' for (sender, message) in chat_log]))"
   ]
  },
  {
   "cell_type": "code",
   "execution_count": null,
   "id": "de458119",
   "metadata": {},
   "outputs": [],
   "source": []
  }
 ],
 "metadata": {
  "kernelspec": {
   "display_name": "Python 3 (ipykernel)",
   "language": "python",
   "name": "python3"
  },
  "language_info": {
   "codemirror_mode": {
    "name": "ipython",
    "version": 3
   },
   "file_extension": ".py",
   "mimetype": "text/x-python",
   "name": "python",
   "nbconvert_exporter": "python",
   "pygments_lexer": "ipython3",
   "version": "3.9.6"
  }
 },
 "nbformat": 4,
 "nbformat_minor": 5
}
