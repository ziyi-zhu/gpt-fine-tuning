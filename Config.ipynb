{
 "cells": [
  {
   "cell_type": "code",
   "execution_count": 2,
   "id": "2a56e8dc",
   "metadata": {},
   "outputs": [],
   "source": [
    "import wandb\n",
    "\n",
    "api = wandb.Api()\n",
    "run = api.run(\"ziyizhu/gpt-neo-dialogs/gthanlpq\")"
   ]
  },
  {
   "cell_type": "code",
   "execution_count": 3,
   "id": "5bc44ba7",
   "metadata": {},
   "outputs": [],
   "source": [
    "run.config[\"test_size\"] = 0.15\n",
    "run.update()"
   ]
  },
  {
   "cell_type": "code",
   "execution_count": null,
   "id": "6a89f49d",
   "metadata": {},
   "outputs": [],
   "source": []
  }
 ],
 "metadata": {
  "kernelspec": {
   "display_name": "Python 3 (ipykernel)",
   "language": "python",
   "name": "python3"
  },
  "language_info": {
   "codemirror_mode": {
    "name": "ipython",
    "version": 3
   },
   "file_extension": ".py",
   "mimetype": "text/x-python",
   "name": "python",
   "nbconvert_exporter": "python",
   "pygments_lexer": "ipython3",
   "version": "3.9.6"
  }
 },
 "nbformat": 4,
 "nbformat_minor": 5
}
