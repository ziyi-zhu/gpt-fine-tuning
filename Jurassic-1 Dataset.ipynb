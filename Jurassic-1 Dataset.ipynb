{
 "cells": [
  {
   "cell_type": "code",
   "execution_count": 26,
   "id": "a57b3f62",
   "metadata": {},
   "outputs": [],
   "source": [
    "import pandas as pd\n",
    "import numpy as np\n",
    "import re\n",
    "from tqdm.notebook import tqdm"
   ]
  },
  {
   "cell_type": "code",
   "execution_count": 2,
   "id": "0b8052fa",
   "metadata": {},
   "outputs": [],
   "source": [
    "lines = pd.read_csv('./datasets/raw/cornell-movie-dialogs-corpus/movie_lines.txt',\n",
    "                    sep=re.escape(' +++$+++ '),\n",
    "                    names=['lineID', 'characterID', 'movieID', 'characterName', 'utterance'],\n",
    "                    index_col=0,\n",
    "                    engine='python', \n",
    "                    encoding=\"latin1\")\n",
    "\n",
    "conversations = pd.read_csv('./datasets/raw/cornell-movie-dialogs-corpus/movie_conversations.txt',\n",
    "                    sep=re.escape(' +++$+++ '),\n",
    "                    names=['characterID_0', 'characterID_1', 'movieID', 'utteranceList'],\n",
    "                    engine='python', \n",
    "                    encoding=\"latin1\")"
   ]
  },
  {
   "cell_type": "code",
   "execution_count": 35,
   "id": "f4304c68",
   "metadata": {},
   "outputs": [
    {
     "data": {
      "application/vnd.jupyter.widget-view+json": {
       "model_id": "d4189108cb27414e88ba3a62350bbfee",
       "version_major": 2,
       "version_minor": 0
      },
      "text/plain": [
       "  0%|          | 0/83097 [00:00<?, ?it/s]"
      ]
     },
     "metadata": {},
     "output_type": "display_data"
    },
    {
     "data": {
      "text/html": [
       "<div>\n",
       "<style scoped>\n",
       "    .dataframe tbody tr th:only-of-type {\n",
       "        vertical-align: middle;\n",
       "    }\n",
       "\n",
       "    .dataframe tbody tr th {\n",
       "        vertical-align: top;\n",
       "    }\n",
       "\n",
       "    .dataframe thead th {\n",
       "        text-align: right;\n",
       "    }\n",
       "</style>\n",
       "<table border=\"1\" class=\"dataframe\">\n",
       "  <thead>\n",
       "    <tr style=\"text-align: right;\">\n",
       "      <th></th>\n",
       "      <th>prompt</th>\n",
       "      <th>completion</th>\n",
       "    </tr>\n",
       "  </thead>\n",
       "  <tbody>\n",
       "    <tr>\n",
       "      <th>0</th>\n",
       "      <td>Bianca: Can we make this quick? Roxanne Korrin...</td>\n",
       "      <td>Okay... then how 'bout we try out some French...</td>\n",
       "    </tr>\n",
       "    <tr>\n",
       "      <th>1</th>\n",
       "      <td>Bianca: You're asking me out. That's so cute. ...</td>\n",
       "      <td>Forget it.</td>\n",
       "    </tr>\n",
       "    <tr>\n",
       "      <th>2</th>\n",
       "      <td>Bianca: No, no, it's my fault -- we didn't hav...</td>\n",
       "      <td>Seems like she could get a date easy enough...</td>\n",
       "    </tr>\n",
       "    <tr>\n",
       "      <th>3</th>\n",
       "      <td>Cameron: Why?\\nBianca: Unsolved mystery. She u...</td>\n",
       "      <td>That's a shame.</td>\n",
       "    </tr>\n",
       "    <tr>\n",
       "      <th>4</th>\n",
       "      <td>Bianca: Gosh, if only we could find Kat a boyf...</td>\n",
       "      <td>Let me see what I can do.</td>\n",
       "    </tr>\n",
       "  </tbody>\n",
       "</table>\n",
       "</div>"
      ],
      "text/plain": [
       "                                              prompt  \\\n",
       "0  Bianca: Can we make this quick? Roxanne Korrin...   \n",
       "1  Bianca: You're asking me out. That's so cute. ...   \n",
       "2  Bianca: No, no, it's my fault -- we didn't hav...   \n",
       "3  Cameron: Why?\\nBianca: Unsolved mystery. She u...   \n",
       "4  Bianca: Gosh, if only we could find Kat a boyf...   \n",
       "\n",
       "                                          completion  \n",
       "0   Okay... then how 'bout we try out some French...  \n",
       "1                                         Forget it.  \n",
       "2     Seems like she could get a date easy enough...  \n",
       "3                                    That's a shame.  \n",
       "4                          Let me see what I can do.  "
      ]
     },
     "execution_count": 35,
     "metadata": {},
     "output_type": "execute_result"
    }
   ],
   "source": [
    "def generate_dataset(conversations, lines):\n",
    "    dataset = []\n",
    "    for index, row in tqdm(conversations.iterrows(), total=conversations.shape[0]):\n",
    "        prompt = ''\n",
    "        line_ids = eval(row['utteranceList'])\n",
    "        for line_id in line_ids[:-1]:\n",
    "            line = lines.loc[line_id]\n",
    "            prompt += f'{str(line.characterName).title()}: {re.sub(\" +\", \" \", str(line.utterance))}\\n'\n",
    "        last_line = lines.loc[line_ids[-1]]\n",
    "        prompt += f'{str(last_line.characterName).title()}:'\n",
    "        completion = f' {re.sub(\" +\", \" \", str(last_line.utterance))}'\n",
    "        dataset.append({'prompt': prompt, 'completion': completion})\n",
    "    return pd.DataFrame(dataset)\n",
    "\n",
    "dataset = generate_dataset(conversations, lines)\n",
    "dataset.head()"
   ]
  },
  {
   "cell_type": "code",
   "execution_count": 47,
   "id": "64da65a5",
   "metadata": {},
   "outputs": [
    {
     "data": {
      "text/plain": [
       "{'prompt': 'Margo: How fortunate that I have an understudy so ready, so willing and so able to go on.\\nLloyd: The audience will want its money refunded, believe me.\\nMargo:',\n",
       " 'completion': ' Thank you, Lloyd. Godspeed.'}"
      ]
     },
     "execution_count": 47,
     "metadata": {},
     "output_type": "execute_result"
    }
   ],
   "source": [
    "dataset.iloc[np.random.randint(dataset.shape[0])].to_dict()"
   ]
  },
  {
   "cell_type": "code",
   "execution_count": 44,
   "id": "b1a5e499",
   "metadata": {},
   "outputs": [],
   "source": [
    "dataset.to_csv('datasets/dialogs_dataset.csv', index=False)"
   ]
  },
  {
   "cell_type": "code",
   "execution_count": null,
   "id": "cbbc0bf3",
   "metadata": {},
   "outputs": [],
   "source": []
  }
 ],
 "metadata": {
  "kernelspec": {
   "display_name": "Python 3 (ipykernel)",
   "language": "python",
   "name": "python3"
  },
  "language_info": {
   "codemirror_mode": {
    "name": "ipython",
    "version": 3
   },
   "file_extension": ".py",
   "mimetype": "text/x-python",
   "name": "python",
   "nbconvert_exporter": "python",
   "pygments_lexer": "ipython3",
   "version": "3.9.6"
  }
 },
 "nbformat": 4,
 "nbformat_minor": 5
}
