{
 "cells": [
  {
   "cell_type": "code",
   "execution_count": 1,
   "id": "a265170f",
   "metadata": {},
   "outputs": [],
   "source": [
    "import npu\n",
    "from npu.vision.datasets import CIFAR10\n",
    "import torch.nn as nn\n",
    "import torch.nn.functional as F"
   ]
  },
  {
   "cell_type": "code",
   "execution_count": 2,
   "id": "1ed7ce40",
   "metadata": {},
   "outputs": [
    {
     "name": "stdout",
     "output_type": "stream",
     "text": [
      "[\u001b[94mNeuro Ai\u001b[0m] 09:39:22 - [\u001b[95mINFO\u001b[0m]: Token successfully authenticated\n",
      "[\u001b[94mNeuro Ai\u001b[0m] 09:39:22 - [\u001b[95mINFO\u001b[0m]: Using project: get_started\n"
     ]
    }
   ],
   "source": [
    "# TODO: Replace YOUR_TOKEN with your API token\n",
    "npu.api('LsqV0Z2PP-_A_tceb_Mtkx16i1r1knOrxW3_Q0b-HD8', project='get_started')"
   ]
  },
  {
   "cell_type": "code",
   "execution_count": 3,
   "id": "9df1e3ef",
   "metadata": {},
   "outputs": [],
   "source": [
    "class Net(nn.Module):\n",
    "    def __init__(self):\n",
    "        nn.Module.__init__(self)\n",
    "        self.conv1 = nn.Conv2d(3, 6, 5)\n",
    "        self.pool = nn.MaxPool2d(2, 2)\n",
    "        self.conv2 = nn.Conv2d(6, 16, 5)\n",
    "        self.fc1 = nn.Linear(16 * 5 * 5, 120)\n",
    "        self.fc2 = nn.Linear(120, 84)\n",
    "        self.fc3 = nn.Linear(84, 10)\n",
    "\n",
    "    def forward(self, x):\n",
    "        x = self.pool(F.relu(self.conv1(x)))\n",
    "        x = self.pool(F.relu(self.conv2(x)))\n",
    "        x = x.view(-1, 16 * 5 * 5)\n",
    "        x = F.relu(self.fc1(x))\n",
    "        x = F.relu(self.fc2(x))\n",
    "        x = self.fc3(x)\n",
    "        return x\n",
    "\n",
    "net = Net()"
   ]
  },
  {
   "cell_type": "code",
   "execution_count": 4,
   "id": "96aae20a",
   "metadata": {},
   "outputs": [
    {
     "name": "stdout",
     "output_type": "stream",
     "text": [
      "[\u001b[94mNeuro Ai\u001b[0m] 09:39:25 - [\u001b[95mINFO\u001b[0m]: Model file size is 247.63 KB. Uploading model now...\n"
     ]
    },
    {
     "name": "stderr",
     "output_type": "stream",
     "text": [
      "[\u001b[94mNeuro Ai\u001b[0m] Uploading: 100%|██████████████████████████████████████████████████| 248k/248k [00:00<00:00, 2.65MB/s]\u001b[0m\n"
     ]
    },
    {
     "name": "stdout",
     "output_type": "stream",
     "text": [
      "[\u001b[94mNeuro Ai\u001b[0m] 09:39:25 - [\u001b[95mINFO\u001b[0m]: Started compiling. View status at https://dashboard.getneuro.ai/task?id=614856cb256db7477622b0c0\n"
     ]
    },
    {
     "name": "stderr",
     "output_type": "stream",
     "text": [
      "[\u001b[94mNeuro Ai\u001b[0m] COMPILING: 100.0%|██████████████████████████████████████████████| remaining: 00:00 || elapsed: 00:00 \u001b[0m"
     ]
    },
    {
     "name": "stdout",
     "output_type": "stream",
     "text": [
      "[\u001b[94mNeuro Ai\u001b[0m] 09:39:25 - [\u001b[95mINFO\u001b[0m]: Model compiled successfully.\n"
     ]
    },
    {
     "name": "stderr",
     "output_type": "stream",
     "text": [
      "\n"
     ]
    }
   ],
   "source": [
    "model = npu.compile(net)"
   ]
  },
  {
   "cell_type": "code",
   "execution_count": 5,
   "id": "ed4a9f09",
   "metadata": {},
   "outputs": [
    {
     "name": "stdout",
     "output_type": "stream",
     "text": [
      "[\u001b[94mNeuro Ai\u001b[0m] 09:40:32 - [\u001b[95mINFO\u001b[0m]: Started training. View status at https://dashboard.getneuro.ai/task?id=6148570d7e79573bf7306034\n"
     ]
    },
    {
     "name": "stderr",
     "output_type": "stream",
     "text": [
      "[\u001b[94mNeuro Ai\u001b[0m] TRAINING: 100.0%|███████████████████████████████████████████████| remaining: 00:00 || elapsed: 00:29 \u001b[0m"
     ]
    },
    {
     "name": "stdout",
     "output_type": "stream",
     "text": [
      "[\u001b[94mNeuro Ai\u001b[0m] 09:41:01 - [\u001b[95mINFO\u001b[0m]: Model finished training\n"
     ]
    },
    {
     "name": "stderr",
     "output_type": "stream",
     "text": [
      "\n"
     ]
    }
   ],
   "source": [
    "trained_model = npu.train(model,\n",
    "                          train_data=CIFAR10.train,\n",
    "                          val_data=CIFAR10.val,\n",
    "                          loss=npu.loss.SparseCrossEntropyLoss,\n",
    "                          optim=npu.optim.SGD(lr=0.01),\n",
    "                          batch_size=256,\n",
    "                          epochs=10)"
   ]
  },
  {
   "cell_type": "code",
   "execution_count": 6,
   "id": "559fe5f5",
   "metadata": {},
   "outputs": [
    {
     "name": "stderr",
     "output_type": "stream",
     "text": [
      "2021-09-20 10:41:59.163473: W tensorflow/stream_executor/platform/default/dso_loader.cc:64] Could not load dynamic library 'libcudart.so.11.0'; dlerror: libcudart.so.11.0: cannot open shared object file: No such file or directory; LD_LIBRARY_PATH: /usr/lib/cuda/include:/usr/lib/cuda/lib64:\n",
      "2021-09-20 10:41:59.163523: I tensorflow/stream_executor/cuda/cudart_stub.cc:29] Ignore above cudart dlerror if you do not have a GPU set up on your machine.\n"
     ]
    }
   ],
   "source": [
    "import numpy as np\n",
    "from tensorflow.keras.datasets import cifar10\n",
    "_, (x_test, y_test) = cifar10.load_data()\n",
    "\n",
    "# Since the global models are in pytorch, we need to make sure the shape of our prediction data is [N, C, H, W]\n",
    "x_test = x_test.transpose((0, 3, 2, 1)).astype(float) # [1000, 3, 32, 32]\n",
    "\n",
    "# Get 100 random sample\n",
    "n = np.random.randint(0, 500)\n",
    "x = x_test[n:n+100]"
   ]
  },
  {
   "cell_type": "code",
   "execution_count": 7,
   "id": "766deae5",
   "metadata": {},
   "outputs": [
    {
     "name": "stdout",
     "output_type": "stream",
     "text": [
      "[\u001b[94mNeuro Ai\u001b[0m] 09:42:03 - [\u001b[95mINFO\u001b[0m]: Data not found on servers. Total size of data is 2.34 MB. Uploading now...\n"
     ]
    },
    {
     "name": "stderr",
     "output_type": "stream",
     "text": [
      "[\u001b[94mNeuro Ai\u001b[0m] Uploading: 100%|████████████████████████████████████████████████| 2.34M/2.34M [00:01<00:00, 1.79MB/s]\u001b[0m\n"
     ]
    },
    {
     "name": "stdout",
     "output_type": "stream",
     "text": [
      "[\u001b[94mNeuro Ai\u001b[0m] 09:42:05 - [\u001b[95mINFO\u001b[0m]: Started prediction. View status at https://dashboard.getneuro.ai/task?id=6148576b256db7477622b0fb\n"
     ]
    },
    {
     "name": "stderr",
     "output_type": "stream",
     "text": [
      "[\u001b[94mNeuro Ai\u001b[0m] PREDICTION: 100.0%|█████████████████████████████████████████████| remaining: 00:00 || elapsed: 00:00 \u001b[0m\n",
      "[\u001b[94mNeuro Ai\u001b[0m] PREDICTION: 100.0%|█████████████████████████████████████████████| remaining: 00:00 || elapsed: 00:00 \u001b[0m\n"
     ]
    }
   ],
   "source": [
    "# Use trained_model or \"MODEL_ID\" found in your dashboard\n",
    "predictions = npu.predict(model=trained_model, data=x).get_result()[0]\n",
    "# predictions = npu.predict(model='6148532aa7cde87018712eb1', data=x).get_result()[0]"
   ]
  },
  {
   "cell_type": "code",
   "execution_count": 8,
   "id": "81b8550f",
   "metadata": {},
   "outputs": [
    {
     "name": "stdout",
     "output_type": "stream",
     "text": [
      "43 correct out of 100\n"
     ]
    }
   ],
   "source": [
    "accuracy = 0\n",
    "for i, result in enumerate(predictions):\n",
    "    predicted = np.argmax(result)\n",
    "    if y_test[n+i] == predicted:\n",
    "        accuracy+=1\n",
    "print(accuracy, \"correct out of\", len(x))"
   ]
  },
  {
   "cell_type": "code",
   "execution_count": null,
   "id": "8ce1e922",
   "metadata": {},
   "outputs": [],
   "source": []
  }
 ],
 "metadata": {
  "kernelspec": {
   "display_name": "Python 3 (ipykernel)",
   "language": "python",
   "name": "python3"
  },
  "language_info": {
   "codemirror_mode": {
    "name": "ipython",
    "version": 3
   },
   "file_extension": ".py",
   "mimetype": "text/x-python",
   "name": "python",
   "nbconvert_exporter": "python",
   "pygments_lexer": "ipython3",
   "version": "3.9.6"
  }
 },
 "nbformat": 4,
 "nbformat_minor": 5
}
